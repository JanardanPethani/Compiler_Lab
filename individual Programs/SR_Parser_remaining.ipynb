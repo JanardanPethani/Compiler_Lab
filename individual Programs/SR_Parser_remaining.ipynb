{
 "metadata": {
  "language_info": {
   "codemirror_mode": {
    "name": "ipython",
    "version": 3
   },
   "file_extension": ".py",
   "mimetype": "text/x-python",
   "name": "python",
   "nbconvert_exporter": "python",
   "pygments_lexer": "ipython3",
   "version": "3.8.2-final"
  },
  "orig_nbformat": 2,
  "kernelspec": {
   "name": "Python 3.8.2 32-bit",
   "display_name": "Python 3.8.2 32-bit",
   "metadata": {
    "interpreter": {
     "hash": "7940845954ac1606655ad53160157c8076363ec80618b26e734d013cf7cceea5"
    }
   }
  }
 },
 "nbformat": 4,
 "nbformat_minor": 2,
 "cells": [
  {
   "cell_type": "code",
   "execution_count": 19,
   "metadata": {},
   "outputs": [],
   "source": [
    "import re"
   ]
  },
  {
   "cell_type": "code",
   "execution_count": 36,
   "metadata": {
    "tags": []
   },
   "outputs": [
    {
     "output_type": "stream",
     "name": "stdout",
     "text": "{&#39;num&#39;, &#39;*&#39;, &#39;+&#39;, &#39;id&#39;}\n{&#39;E&#39;, &#39;S&#39;}\n{&#39;S&#39;: [&#39;E&#39;], &#39;E&#39;: [&#39;E+E&#39;, &#39;E*E&#39;, &#39;num&#39;, &#39;id&#39;]}\n"
    }
   ],
   "source": [
    "##take grammer\n",
    "file = open('grammer.txt','r')\n",
    "terminals = set()\n",
    "non_term = set()\n",
    "rules = {}\n",
    "for line in file:\n",
    "    terminals = list(terminals)\n",
    "    non_term = list(non_term)\n",
    "\n",
    "    rule = line.split('->')\n",
    "    lhs = rule[0]\n",
    "    rhs = rule[1].strip().split('|')\n",
    "    rules[lhs] = rhs\n",
    "    non_term.append(lhs)\n",
    "    for term in rhs:\n",
    "        if re.search('[^A-Z]',term):\n",
    "            terminals.append(re.sub('[A-Z]+',\"\",term))\n",
    "    terminals = set(terminals)\n",
    "    non_term = set(non_term)\n",
    "\n",
    "print(terminals,non_term,rules,sep='\\n')"
   ]
  },
  {
   "cell_type": "code",
   "execution_count": 34,
   "metadata": {
    "tags": []
   },
   "outputs": [
    {
     "output_type": "stream",
     "name": "stdout",
     "text": "id                                                 -             shift             \nid+                                                -             shift             \nid+num                                             -             shift             \nid+num*                                            -             shift             \nid+num*id                                          -             shift             \n"
    }
   ],
   "source": [
    "#SR parser\n",
    "\"\"\"\n",
    "\n",
    "\"\"\"\n",
    "ip_string = input(\"Enter input string: \").split()\n",
    "main_stack = []\n",
    "for i in range(len(ip_string)):\n",
    "    stack.append(ip_string[i])\n",
    "    stack_str = ''.join(stack)\n",
    "\n",
    "    \n",
    "\n",
    "\n"
   ]
  },
  {
   "cell_type": "code",
   "execution_count": null,
   "metadata": {},
   "outputs": [],
   "source": []
  }
 ]
}